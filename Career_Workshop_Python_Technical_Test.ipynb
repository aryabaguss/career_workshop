{
  "nbformat": 4,
  "nbformat_minor": 0,
  "metadata": {
    "colab": {
      "provenance": []
    },
    "kernelspec": {
      "name": "python3",
      "display_name": "Python 3"
    },
    "language_info": {
      "name": "python"
    }
  },
  "cells": [
    {
      "cell_type": "markdown",
      "source": [
        "#1"
      ],
      "metadata": {
        "id": "-RQ3SlzcWsRM"
      }
    },
    {
      "cell_type": "code",
      "source": [
        "def find_primes_in_range(start, end):\n",
        "    # Your code here\n",
        "    result=[]\n",
        "    for num in range(start,end):\n",
        "        if num == 0:\n",
        "            continue\n",
        "        elif num == 1:\n",
        "            continue\n",
        "        elif num == 2:\n",
        "            result.append(num)\n",
        "        elif num == 3:\n",
        "            result.append(num)\n",
        "        elif num / num == 1 and num % 2 == 1 and num % 3 != 0:\n",
        "            result.append(num)\n",
        "\n",
        "    return result\n",
        "\n",
        "\n",
        "\n",
        "\n",
        "# Don't change code below\n",
        "# Input\n",
        "start = 1\n",
        "end = 10\n",
        "\n",
        "primes = find_primes_in_range(start, end)\n",
        "print(primes)"
      ],
      "metadata": {
        "colab": {
          "base_uri": "https://localhost:8080/"
        },
        "id": "_ziJFCSiXIo0",
        "outputId": "37471097-a543-4e5a-c8b8-502620062150"
      },
      "execution_count": 1,
      "outputs": [
        {
          "output_type": "stream",
          "name": "stdout",
          "text": [
            "[2, 3, 5, 7]\n"
          ]
        }
      ]
    },
    {
      "cell_type": "markdown",
      "source": [
        "#2"
      ],
      "metadata": {
        "id": "PgPiSUOBWwmg"
      }
    },
    {
      "cell_type": "code",
      "source": [
        "def count_unique_words(sentence):\n",
        "    # Your code here\n",
        "    sentence = sentence.lower()\n",
        "    split = set(sentence.split())\n",
        "\n",
        "    return len(split)\n",
        "\n",
        "# Don't change code below\n",
        "# Input\n",
        "sentence = \"Selamat pagi Selamat malam\"\n",
        "\n",
        "num_unique_words = count_unique_words(sentence)\n",
        "print(num_unique_words)"
      ],
      "metadata": {
        "colab": {
          "base_uri": "https://localhost:8080/"
        },
        "id": "jlB27oEvXbbR",
        "outputId": "68f33d56-1aea-4af3-b59e-8c1423133b59"
      },
      "execution_count": 2,
      "outputs": [
        {
          "output_type": "stream",
          "name": "stdout",
          "text": [
            "3\n"
          ]
        }
      ]
    },
    {
      "cell_type": "markdown",
      "source": [
        "#3"
      ],
      "metadata": {
        "id": "C9q5yCmmWwvM"
      }
    },
    {
      "cell_type": "code",
      "source": [
        "def merge_unique(arr1, arr2):\n",
        "    # Your code here\n",
        "    combine = []\n",
        "\n",
        "    for num in arr1:\n",
        "        if num not in combine:\n",
        "            combine.append(num)\n",
        "        else:\n",
        "            continue\n",
        "\n",
        "    for num in arr2:\n",
        "        if num not in combine:\n",
        "            combine.append(num)\n",
        "        else:\n",
        "            continue\n",
        "\n",
        "    return combine\n",
        "\n",
        "# Don't change code below\n",
        "# Input\n",
        "arr1 = [2, 2, 3]\n",
        "arr2 = [3, 3, 4]\n",
        "\n",
        "array_merged = merge_unique(arr1, arr2)\n",
        "print(array_merged)"
      ],
      "metadata": {
        "colab": {
          "base_uri": "https://localhost:8080/"
        },
        "id": "eh7z_eEeXneo",
        "outputId": "89fb2ef2-fa63-45eb-91e6-8112bc07f626"
      },
      "execution_count": 3,
      "outputs": [
        {
          "output_type": "stream",
          "name": "stdout",
          "text": [
            "[2, 3, 4]\n"
          ]
        }
      ]
    },
    {
      "cell_type": "markdown",
      "source": [
        "#4"
      ],
      "metadata": {
        "id": "fvc967ikWw43"
      }
    },
    {
      "cell_type": "code",
      "source": [
        "def find_median(arr):\n",
        "    # Your code here\n",
        "    arr.sort()\n",
        "    length = len(arr)\n",
        "\n",
        "    if length % 2 == 1:\n",
        "        index = int(length / 2)\n",
        "        median = arr[index]\n",
        "\n",
        "    else:\n",
        "        index = int(length/2)\n",
        "        a = arr[index-1]\n",
        "        b = arr[index+1]\n",
        "        median = (a+b)/2\n",
        "\n",
        "    return median\n",
        "\n",
        "\n",
        "# Don't change code below\n",
        "# Input\n",
        "arr1 = [7, 3, 2, 6, 8, 4, 6, 7, 8]\n",
        "\n",
        "median = find_median(arr1)\n",
        "print(median)"
      ],
      "metadata": {
        "colab": {
          "base_uri": "https://localhost:8080/"
        },
        "id": "6u4RCNTgXr4I",
        "outputId": "0ba67d1f-0856-4fdf-d5fd-2d786da8b75d"
      },
      "execution_count": 5,
      "outputs": [
        {
          "output_type": "stream",
          "name": "stdout",
          "text": [
            "6\n"
          ]
        }
      ]
    },
    {
      "cell_type": "markdown",
      "source": [
        "#5"
      ],
      "metadata": {
        "id": "oeAN5nlgWxQE"
      }
    },
    {
      "cell_type": "code",
      "source": [
        "def sum_of_digits(number):\n",
        "    # Your code here\n",
        "    result = []\n",
        "    for num in str(number):\n",
        "        result.append(int(num))\n",
        "\n",
        "    return sum(result)\n",
        "\n",
        "# Don't change code below\n",
        "# Input\n",
        "number = 6732478\n",
        "\n",
        "sum_digit = sum_of_digits(number)\n",
        "print(sum_digit)"
      ],
      "metadata": {
        "colab": {
          "base_uri": "https://localhost:8080/"
        },
        "id": "RkDMMFJBZRRF",
        "outputId": "a53f76d4-f728-46eb-ef99-e22c6555c14e"
      },
      "execution_count": 6,
      "outputs": [
        {
          "output_type": "stream",
          "name": "stdout",
          "text": [
            "37\n"
          ]
        }
      ]
    },
    {
      "cell_type": "markdown",
      "source": [
        "#6"
      ],
      "metadata": {
        "id": "VvEnNCNtWxS4"
      }
    },
    {
      "cell_type": "code",
      "source": [
        "def count_substring(main_string, substring):\n",
        "    # Your code here\n",
        "    count_subsstr = 0\n",
        "    start = 0\n",
        "\n",
        "    while start < len(main_string):\n",
        "        index = main_string.find(substring,start)\n",
        "\n",
        "        if index == -1:\n",
        "            break\n",
        "\n",
        "        count_subsstr += 1\n",
        "        start = index + len(substring)\n",
        "\n",
        "    return count_subsstr\n",
        "\n",
        "# Don't change code below\n",
        "# Input\n",
        "main_string = \"abababa\"\n",
        "substring = \"aba\"\n",
        "\n",
        "count_subsstr = count_substring(main_string, substring)\n",
        "print(count_subsstr)"
      ],
      "metadata": {
        "colab": {
          "base_uri": "https://localhost:8080/"
        },
        "id": "XftTIPdYwPTl",
        "outputId": "a2985448-d295-40ea-db90-fd4149ee827d"
      },
      "execution_count": 1,
      "outputs": [
        {
          "output_type": "stream",
          "name": "stdout",
          "text": [
            "2\n"
          ]
        }
      ]
    },
    {
      "cell_type": "markdown",
      "source": [
        "#7"
      ],
      "metadata": {
        "id": "S5X1nHwlWxr8"
      }
    },
    {
      "cell_type": "code",
      "source": [
        "def find_factors(number):\n",
        "    # Your code here\n",
        "    result = []\n",
        "    for num in range(1,number+1):\n",
        "        if number % num == 0:\n",
        "            result.append(num)\n",
        "        else:\n",
        "            continue\n",
        "    return result\n",
        "\n",
        "# Don't change code below\n",
        "# Input\n",
        "number = 12\n",
        "\n",
        "factors = find_factors(12)\n",
        "print(factors)"
      ],
      "metadata": {
        "colab": {
          "base_uri": "https://localhost:8080/"
        },
        "id": "BHZJ7gg7wlyY",
        "outputId": "4b5b5c64-cef2-458b-b726-eb2364f73881"
      },
      "execution_count": 2,
      "outputs": [
        {
          "output_type": "stream",
          "name": "stdout",
          "text": [
            "[1, 2, 3, 4, 6, 12]\n"
          ]
        }
      ]
    },
    {
      "cell_type": "markdown",
      "source": [
        "#8"
      ],
      "metadata": {
        "id": "IiOcqeItWxuy"
      }
    },
    {
      "cell_type": "code",
      "source": [
        "def remove_vowels(text):\n",
        "    # Your code here\n",
        "    vowel = ['a','i','u','e','o']\n",
        "    result = ''\n",
        "\n",
        "    for charr in text:\n",
        "        if charr in vowel:\n",
        "            continue\n",
        "        else:\n",
        "            result += charr\n",
        "\n",
        "    return result\n",
        "\n",
        "# Don't change code below\n",
        "# Input\n",
        "text = \"Good morning\"\n",
        "\n",
        "removed_vowels = remove_vowels(text)\n",
        "print(removed_vowels)"
      ],
      "metadata": {
        "colab": {
          "base_uri": "https://localhost:8080/"
        },
        "id": "qNmPvk2uwuj7",
        "outputId": "04cb9afa-8280-430c-ad4c-ac20c7a9b1ea"
      },
      "execution_count": 3,
      "outputs": [
        {
          "output_type": "stream",
          "name": "stdout",
          "text": [
            "Gd mrnng\n"
          ]
        }
      ]
    },
    {
      "cell_type": "markdown",
      "source": [
        "#9"
      ],
      "metadata": {
        "id": "fcNWi3pbWxxZ"
      }
    },
    {
      "cell_type": "code",
      "source": [
        "def find_missing_number(arr):\n",
        "    # Your code here\n",
        "    result = []\n",
        "\n",
        "    for num in range(min(arr),max(arr)):\n",
        "        if num not in arr:\n",
        "            result.append(num)\n",
        "\n",
        "    return result\n",
        "\n",
        "\n",
        "# Don't change code below\n",
        "# Input\n",
        "arr = [1, 2, 3, 5, 8,10,12,14,15]\n",
        "\n",
        "missing_number = find_missing_number(arr)\n",
        "print(missing_number)"
      ],
      "metadata": {
        "colab": {
          "base_uri": "https://localhost:8080/"
        },
        "id": "pyqvCqK9xGx8",
        "outputId": "fb255fa5-dc93-42c0-814d-6b05c66bad40"
      },
      "execution_count": 4,
      "outputs": [
        {
          "output_type": "stream",
          "name": "stdout",
          "text": [
            "[4, 6, 7, 9, 11, 13]\n"
          ]
        }
      ]
    },
    {
      "cell_type": "markdown",
      "source": [
        "#10"
      ],
      "metadata": {
        "id": "9AO1RmyDWxz4"
      }
    },
    {
      "cell_type": "code",
      "source": [
        "def convert_to_24_hour(time_str):\n",
        "    # Your code here\n",
        "    splitt = time_str.split()\n",
        "    day = splitt[1]\n",
        "    if day == 'PM':\n",
        "        hour = int(splitt[0][0:2])\n",
        "        minute = splitt[0][2:]\n",
        "        hour = hour + 12\n",
        "        new_hour = str(hour)\n",
        "\n",
        "        result = new_hour+minute\n",
        "        return result\n",
        "    else:\n",
        "        return splitt[0]\n",
        "# Don't change code below\n",
        "# Input\n",
        "time_str = \"11:01 PM\"\n",
        "\n",
        "time_24_hour = convert_to_24_hour(time_str)\n",
        "print(time_24_hour)"
      ],
      "metadata": {
        "colab": {
          "base_uri": "https://localhost:8080/"
        },
        "id": "jRZagNzZxL0c",
        "outputId": "76724352-ccba-471a-8722-804665a8d940"
      },
      "execution_count": 5,
      "outputs": [
        {
          "output_type": "stream",
          "name": "stdout",
          "text": [
            "23:01\n"
          ]
        }
      ]
    },
    {
      "cell_type": "markdown",
      "source": [
        "#11"
      ],
      "metadata": {
        "id": "YE1t1hPyWx23"
      }
    },
    {
      "cell_type": "code",
      "source": [
        "def reverse_words(sentence):\n",
        "    # Your code here\n",
        "    split = sentence.split()\n",
        "    result = ''\n",
        "    for index in range(len(split)-1,-1,-1):\n",
        "        if index == len(split)-1:\n",
        "            result += ''+ split[index]\n",
        "        else:\n",
        "            result += ' '+ split[index]\n",
        "\n",
        "    return result\n",
        "\n",
        "\n",
        "\n",
        "# Don't change code below\n",
        "# Input\n",
        "sentence = \"I learn python\"\n",
        "\n",
        "reversed_words = reverse_words(sentence)\n",
        "print(reversed_words)"
      ],
      "metadata": {
        "colab": {
          "base_uri": "https://localhost:8080/"
        },
        "id": "z2oaGe-CxbQs",
        "outputId": "a2f5344a-3a34-4e6e-d7c3-dfdd882b431e"
      },
      "execution_count": 6,
      "outputs": [
        {
          "output_type": "stream",
          "name": "stdout",
          "text": [
            "python learn I\n"
          ]
        }
      ]
    },
    {
      "cell_type": "markdown",
      "source": [
        "#12"
      ],
      "metadata": {
        "id": "6al47DhgW8Ow"
      }
    },
    {
      "cell_type": "code",
      "source": [
        "def factorial_iterative(n):\n",
        "    # Your code here\n",
        "    result = 1\n",
        "    for num in range(1,n+1):\n",
        "        result *= num\n",
        "\n",
        "    return result\n",
        "\n",
        "\n",
        "\n",
        "# Don't change code below\n",
        "# Input\n",
        "n = 12\n",
        "\n",
        "n_factorial = factorial_iterative(n)\n",
        "print(n_factorial)"
      ],
      "metadata": {
        "colab": {
          "base_uri": "https://localhost:8080/"
        },
        "id": "fVEhFWMWxjmD",
        "outputId": "ce68e27b-a0bd-4e5a-cb5e-b9021ddc5f7b"
      },
      "execution_count": 7,
      "outputs": [
        {
          "output_type": "stream",
          "name": "stdout",
          "text": [
            "479001600\n"
          ]
        }
      ]
    },
    {
      "cell_type": "markdown",
      "source": [
        "#13"
      ],
      "metadata": {
        "id": "IUhi5Mf3W8S7"
      }
    },
    {
      "cell_type": "code",
      "source": [
        "def find_pairs(arr, target):\n",
        "    # Your code here\n",
        "    result = set()\n",
        "    seen = set()\n",
        "\n",
        "    for num in arr:\n",
        "        temp = target - num\n",
        "\n",
        "        if temp in seen:\n",
        "            result.add(tuple(sorted((num,temp))))\n",
        "\n",
        "        seen.add(num)\n",
        "\n",
        "    return list(result)\n",
        "\n",
        "# Don't change code below\n",
        "# Input\n",
        "arr = [1, 2, 3, 4, 5]\n",
        "target = 5\n",
        "\n",
        "pairs = find_pairs(arr, target)\n",
        "print(pairs)"
      ],
      "metadata": {
        "colab": {
          "base_uri": "https://localhost:8080/"
        },
        "id": "j4Wk2-kyxlpW",
        "outputId": "bd29f433-b4c2-44d7-8d48-0b413806ffaf"
      },
      "execution_count": 10,
      "outputs": [
        {
          "output_type": "stream",
          "name": "stdout",
          "text": [
            "[(2, 3), (1, 4)]\n"
          ]
        }
      ]
    },
    {
      "cell_type": "markdown",
      "source": [
        "#14"
      ],
      "metadata": {
        "id": "KtT7r2kyW8Z4"
      }
    },
    {
      "cell_type": "code",
      "source": [
        "def remove_negatives(arr):\n",
        "    # Your code here\n",
        "    for num in arr:\n",
        "        if num < 0:\n",
        "            arr.remove(num)\n",
        "    return arr\n",
        "\n",
        "# Don't change code below\n",
        "# Input\n",
        "arr = [1, -2, 3, -4, 5, -6, 7, -8, 9, -10]\n",
        "\n",
        "removed_negatives = remove_negatives(arr)\n",
        "print(removed_negatives)"
      ],
      "metadata": {
        "colab": {
          "base_uri": "https://localhost:8080/"
        },
        "id": "sQo-y-kq7EPp",
        "outputId": "fa61123d-7b6b-4406-8143-3aaa65143997"
      },
      "execution_count": 11,
      "outputs": [
        {
          "output_type": "stream",
          "name": "stdout",
          "text": [
            "[1, 3, 5, 7, 9]\n"
          ]
        }
      ]
    },
    {
      "cell_type": "markdown",
      "source": [
        "#15"
      ],
      "metadata": {
        "id": "Oc6gwKlsWx5p"
      }
    },
    {
      "cell_type": "code",
      "source": [
        "def intersect(arr1, arr2):\n",
        "    # Your code here\n",
        "    result = []\n",
        "\n",
        "    for num in arr1:\n",
        "        if num in arr2:\n",
        "            result.append(num)\n",
        "\n",
        "    return result\n",
        "\n",
        "# Don't change code below\n",
        "# Input\n",
        "arr1 = [100, 200, 300]\n",
        "arr2 = [200, 300, 400]\n",
        "\n",
        "result = intersect(arr1, arr2)\n",
        "print(result)"
      ],
      "metadata": {
        "colab": {
          "base_uri": "https://localhost:8080/"
        },
        "id": "u_wN4pzH7LAW",
        "outputId": "629c8602-42ce-48d6-e755-70f82c2b5088"
      },
      "execution_count": 12,
      "outputs": [
        {
          "output_type": "stream",
          "name": "stdout",
          "text": [
            "[200, 300]\n"
          ]
        }
      ]
    },
    {
      "cell_type": "markdown",
      "source": [
        "#16"
      ],
      "metadata": {
        "id": "HwFiHdJZW9vi"
      }
    },
    {
      "cell_type": "code",
      "source": [
        "def count_even(arr):\n",
        "    # Your code here\n",
        "    result = []\n",
        "\n",
        "    for num in arr:\n",
        "        if num % 2 == 0:\n",
        "            result.append(num)\n",
        "\n",
        "    return len(result)\n",
        "\n",
        "# Don't change this code\n",
        "arr = [1, 2, 3, 4, 5, 6, 7, 8, 10, 12]\n",
        "result = count_even(arr)\n",
        "print(result)"
      ],
      "metadata": {
        "colab": {
          "base_uri": "https://localhost:8080/"
        },
        "id": "C43geGBG7T-P",
        "outputId": "c71ff01d-651e-488b-a145-7cca82e86db9"
      },
      "execution_count": 13,
      "outputs": [
        {
          "output_type": "stream",
          "name": "stdout",
          "text": [
            "6\n"
          ]
        }
      ]
    },
    {
      "cell_type": "markdown",
      "source": [
        "#17"
      ],
      "metadata": {
        "id": "WQkCM5kXW946"
      }
    },
    {
      "cell_type": "code",
      "source": [
        "def count_odd(arr):\n",
        "    # Your code here\n",
        "    result = []\n",
        "    for num in arr:\n",
        "        if num % 2 == 1:\n",
        "            result.append(num)\n",
        "\n",
        "    return len(result)\n",
        "\n",
        "# Don't change code below\n",
        "# Input\n",
        "arr = [1, 2, 3, 4, 5, 6, 7, 8, 10, 12]\n",
        "\n",
        "result = count_odd(arr)\n",
        "print(result)"
      ],
      "metadata": {
        "colab": {
          "base_uri": "https://localhost:8080/"
        },
        "id": "b4niU8RX7bDo",
        "outputId": "0a77d698-efdc-4ad2-9863-7c19b70f39e5"
      },
      "execution_count": 14,
      "outputs": [
        {
          "output_type": "stream",
          "name": "stdout",
          "text": [
            "4\n"
          ]
        }
      ]
    },
    {
      "cell_type": "markdown",
      "source": [
        "#18"
      ],
      "metadata": {
        "id": "hP0Rqv3ZW-FQ"
      }
    },
    {
      "cell_type": "code",
      "source": [
        "def sort_by_length(arr):\n",
        "    # Your code here\n",
        "    panjang = sorted(arr,key = len)\n",
        "    return panjang\n",
        "\n",
        "# Don't change code below\n",
        "# Input\n",
        "arr = [\"apple\", \"banana\", \"kiwi\", \"fig\"]\n",
        "\n",
        "sorted_arr = sort_by_length(arr)\n",
        "print(sorted_arr)"
      ],
      "metadata": {
        "colab": {
          "base_uri": "https://localhost:8080/"
        },
        "id": "mOG0PVNq7k6x",
        "outputId": "ed0864e0-b8cf-4da9-a960-fea2ca2fe9ac"
      },
      "execution_count": 15,
      "outputs": [
        {
          "output_type": "stream",
          "name": "stdout",
          "text": [
            "['fig', 'kiwi', 'apple', 'banana']\n"
          ]
        }
      ]
    },
    {
      "cell_type": "markdown",
      "source": [
        "#19"
      ],
      "metadata": {
        "id": "jMR3Om08XFH_"
      }
    },
    {
      "cell_type": "code",
      "source": [
        "def count_pairs_with_difference(arr, k):\n",
        "    # Your code here\n",
        "    result = []\n",
        "\n",
        "    for x in range(len(arr)):\n",
        "        for y in range(len(arr)):\n",
        "            if x != y:\n",
        "                a = arr[x]\n",
        "                b = arr[y]\n",
        "\n",
        "                if abs(a-b) == k and x > y:\n",
        "                    result.append(1)\n",
        "\n",
        "    return len(result)\n",
        "\n",
        "# Don't change code below\n",
        "# Input\n",
        "arr = [1, 2, 3, 4, 5]\n",
        "k = 3\n",
        "\n",
        "result = count_pairs_with_difference(arr, k)\n",
        "print(result)"
      ],
      "metadata": {
        "colab": {
          "base_uri": "https://localhost:8080/"
        },
        "id": "vlnzyrYq7rrK",
        "outputId": "a612e0c3-0115-4732-a9a9-26f22d2fd4f4"
      },
      "execution_count": 16,
      "outputs": [
        {
          "output_type": "stream",
          "name": "stdout",
          "text": [
            "2\n"
          ]
        }
      ]
    },
    {
      "cell_type": "markdown",
      "source": [
        "#20"
      ],
      "metadata": {
        "id": "VBoklXP3XFb7"
      }
    },
    {
      "cell_type": "code",
      "source": [
        "def sort_by_parity(arr):\n",
        "    # Your code here\n",
        "    even = []\n",
        "    odd = []\n",
        "    for num in arr:\n",
        "        if num % 2 == 0:\n",
        "            even.append(num)\n",
        "        else:\n",
        "            odd.append(num)\n",
        "\n",
        "    for num in odd:\n",
        "        even.append(num)\n",
        "    return even\n",
        "\n",
        "# Don't change code below\n",
        "# Input\n",
        "arr = [1, 2, 3, 4, 5, 6, 7, 8]\n",
        "\n",
        "result = sort_by_parity(arr)\n",
        "print(result)"
      ],
      "metadata": {
        "colab": {
          "base_uri": "https://localhost:8080/"
        },
        "id": "mQi8N2Y_7x3s",
        "outputId": "388e42e2-9370-497d-f824-46074939c918"
      },
      "execution_count": 17,
      "outputs": [
        {
          "output_type": "stream",
          "name": "stdout",
          "text": [
            "[2, 4, 6, 8, 1, 3, 5, 7]\n"
          ]
        }
      ]
    },
    {
      "cell_type": "code",
      "source": [],
      "metadata": {
        "id": "G6Hlqj557zOE"
      },
      "execution_count": null,
      "outputs": []
    }
  ]
}