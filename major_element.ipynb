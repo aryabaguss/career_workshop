{
 "cells": [
  {
   "cell_type": "code",
   "execution_count": 10,
   "metadata": {},
   "outputs": [
    {
     "name": "stdout",
     "output_type": "stream",
     "text": [
      "[[3, 3]]\n"
     ]
    }
   ],
   "source": [
    "def majority_element(nums):\n",
    "    # Your code here\n",
    "    nums.sort()\n",
    "    store = []\n",
    "    unique = set()\n",
    "    counter = []\n",
    "    result =[]\n",
    "    \n",
    "    for num in nums:\n",
    "        unique.add(num)\n",
    "    unique = list(unique)\n",
    "    \n",
    "    for num in unique:\n",
    "        x = nums.count(num)\n",
    "        store.append([num,x])\n",
    "    \n",
    "    for index in range(len(store)):\n",
    "        counter.append(store[index][1])\n",
    "    \n",
    "    maxx = max(counter)\n",
    "    avg = sum(counter) / len(counter)\n",
    "    \n",
    "    if avg == maxx:\n",
    "        return (\"All elements have the same count\")\n",
    "    else:\n",
    "        \n",
    "        for entry in store:\n",
    "            total = entry[1]\n",
    "            \n",
    "            if total == maxx:\n",
    "                result.append(entry)\n",
    "\n",
    "    return result\n",
    "\n",
    "# Input\n",
    "nums = [2,3,3,4,2,3]\n",
    "nums2 = [5, 5, 6, 6, 7, 7]\n",
    "nums3 = [8, 8, 9, 9, 9]\n",
    "\n",
    "result = majority_element(nums)\n",
    "print(result)"
   ]
  },
  {
   "cell_type": "code",
   "execution_count": null,
   "metadata": {},
   "outputs": [],
   "source": []
  }
 ],
 "metadata": {
  "kernelspec": {
   "display_name": "Python 3",
   "language": "python",
   "name": "python3"
  },
  "language_info": {
   "codemirror_mode": {
    "name": "ipython",
    "version": 3
   },
   "file_extension": ".py",
   "mimetype": "text/x-python",
   "name": "python",
   "nbconvert_exporter": "python",
   "pygments_lexer": "ipython3",
   "version": "3.9.6"
  }
 },
 "nbformat": 4,
 "nbformat_minor": 2
}
