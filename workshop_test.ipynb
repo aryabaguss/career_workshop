{
 "cells": [
  {
   "cell_type": "markdown",
   "metadata": {},
   "source": [
    "#1"
   ]
  },
  {
   "cell_type": "code",
   "execution_count": 1,
   "metadata": {},
   "outputs": [
    {
     "name": "stdout",
     "output_type": "stream",
     "text": [
      "5\n"
     ]
    }
   ],
   "source": [
    "def count_multiples(start, end, k):\n",
    "    # Your code here\n",
    "    result = []\n",
    "    for num in range(start,end,k):\n",
    "        result.append(num)\n",
    "    \n",
    "    return len(result)\n",
    "\n",
    "# Input\n",
    "start = 1\n",
    "end = 10\n",
    "k = 2\n",
    "\n",
    "# result\n",
    "result = count_multiples(start, end, k)\n",
    "print(result)"
   ]
  },
  {
   "cell_type": "markdown",
   "metadata": {},
   "source": [
    "#2"
   ]
  },
  {
   "cell_type": "code",
   "execution_count": 2,
   "metadata": {},
   "outputs": [
    {
     "name": "stdout",
     "output_type": "stream",
     "text": [
      "[[3, 3]]\n"
     ]
    }
   ],
   "source": [
    "def majority_element(nums):\n",
    "    # Your code here\n",
    "    nums.sort()\n",
    "    store = []\n",
    "    unique = set()\n",
    "    counter = []\n",
    "    result =[]\n",
    "    \n",
    "    for num in nums:\n",
    "        unique.add(num)\n",
    "    unique = list(unique)\n",
    "    \n",
    "    for num in unique:\n",
    "        x = nums.count(num)\n",
    "        store.append([num,x])\n",
    "    \n",
    "    for index in range(len(store)):\n",
    "        counter.append(store[index][1])\n",
    "    \n",
    "    maxx = max(counter)\n",
    "    avg = sum(counter) / len(counter)\n",
    "    \n",
    "    if avg == maxx:\n",
    "        return (\"All elements have the same count\")\n",
    "    else:\n",
    "        \n",
    "        for entry in store:\n",
    "            total = entry[1]\n",
    "            \n",
    "            if total == maxx:\n",
    "                result.append(entry)\n",
    "\n",
    "    return result\n",
    "\n",
    "# Input\n",
    "nums = [2,3,3,4,2,3]\n",
    "nums2 = [5, 5, 6, 6, 7, 7]\n",
    "nums3 = [8, 8, 9, 9, 9]\n",
    "\n",
    "result = majority_element(nums)\n",
    "print(result)"
   ]
  },
  {
   "cell_type": "markdown",
   "metadata": {},
   "source": [
    "#3"
   ]
  },
  {
   "cell_type": "code",
   "execution_count": 3,
   "metadata": {},
   "outputs": [
    {
     "name": "stdout",
     "output_type": "stream",
     "text": [
      "False\n"
     ]
    }
   ],
   "source": [
    "def has_unique_digits(n):\n",
    "    # Your code here\n",
    "    result = []\n",
    "    unique = set()\n",
    "    \n",
    "    for num in str(n):\n",
    "        result.append(num)\n",
    "        unique.add(num)\n",
    "    \n",
    "    for number in unique:\n",
    "        count = result.count(number)\n",
    "        \n",
    "        if count > 1:\n",
    "            return False\n",
    "        \n",
    "    return True\n",
    "        \n",
    "# Input\n",
    "n = 11234\n",
    "\n",
    "result = has_unique_digits(n)\n",
    "print(result)"
   ]
  },
  {
   "cell_type": "markdown",
   "metadata": {},
   "source": [
    "#4"
   ]
  },
  {
   "cell_type": "code",
   "execution_count": null,
   "metadata": {},
   "outputs": [
    {
     "name": "stdout",
     "output_type": "stream",
     "text": [
      "[1, 3, 12, 0, 0]\n"
     ]
    }
   ],
   "source": [
    "def move_zeros_to_end(arr):\n",
    "    # Your code here\n",
    "    result = []\n",
    "    zero = []\n",
    "    for num in arr:\n",
    "        if num == 0:\n",
    "            zero.append(num)\n",
    "            \n",
    "        else:\n",
    "            result.append(num)\n",
    "    \n",
    "    for num in zero:\n",
    "        result.append(num)\n",
    "    \n",
    "    return result\n",
    "        \n",
    "# Input\n",
    "arr = [0,1,0,3,12]\n",
    "\n",
    "result = move_zeros_to_end(arr)\n",
    "print(result)"
   ]
  },
  {
   "cell_type": "markdown",
   "metadata": {},
   "source": [
    "#5"
   ]
  },
  {
   "cell_type": "code",
   "execution_count": null,
   "metadata": {},
   "outputs": [
    {
     "name": "stdout",
     "output_type": "stream",
     "text": [
      "True\n"
     ]
    }
   ],
   "source": [
    "def anagrams(str_1, str_2):\n",
    "    # Your code here\n",
    "    a = []\n",
    "    b = []\n",
    "    for alpha in str_1:\n",
    "        a.append(alpha)\n",
    "        \n",
    "    for alpha in str_2:\n",
    "        b.append(alpha)\n",
    "    \n",
    "    a.sort()\n",
    "    b.sort()\n",
    "    return a==b \n",
    "    \n",
    "# Input\n",
    "str_1 = 'listen'\n",
    "str_2 = 'silent'\n",
    "\n",
    "result = anagrams(str_1, str_2)\n",
    "print(result)"
   ]
  },
  {
   "cell_type": "markdown",
   "metadata": {},
   "source": [
    "#6"
   ]
  },
  {
   "cell_type": "code",
   "execution_count": null,
   "metadata": {},
   "outputs": [],
   "source": [
    "def longest_consecutive_sequence(arr):\n",
    "    # Your code here\n",
    "    arr.sort()\n",
    "    result = []\n",
    "    for index in range(len(arr)):\n",
    "        next = index-1\n",
    "        a = arr[index]\n",
    "        b = arr[next]\n",
    "    \n",
    "        if index == 0:\n",
    "            if arr[1]- arr[0] == 1:\n",
    "                result.append(arr[index])\n",
    "                \n",
    "        elif a-b == 1:\n",
    "            if a - result[-1] != 1:\n",
    "                break\n",
    "            else:\n",
    "                result.append(a)\n",
    "                \n",
    "        else:\n",
    "            continue\n",
    "    \n",
    "    return len(result)\n",
    "\n",
    "\n",
    "# Input\n",
    "arr = [10,5,9,2,3,4,6,8,1]\n",
    "\n",
    "result = longest_consecutive_sequence(arr)\n",
    "print(result)"
   ]
  },
  {
   "cell_type": "markdown",
   "metadata": {},
   "source": [
    "#7"
   ]
  },
  {
   "cell_type": "code",
   "execution_count": null,
   "metadata": {},
   "outputs": [
    {
     "name": "stdout",
     "output_type": "stream",
     "text": [
      "['name', 'age', 'city']\n"
     ]
    }
   ],
   "source": [
    "def find_null_colname(data):\n",
    "    # Your code here\n",
    "    result = []\n",
    "    \n",
    "    for keys in data:\n",
    "        for check in data[keys]:\n",
    "            if check is None:\n",
    "                result.append(keys)\n",
    "                \n",
    "            else:\n",
    "                continue\n",
    "    \n",
    "    return result\n",
    "\n",
    "# Input\n",
    "data = {\n",
    "    \"name\": [\"Alice\",\"Bob\",None,\"David\"],\n",
    "    \"age\": [25,None,30,22],\n",
    "    \"city\": [\"New York\",\"Los Angeles\",\"Chicago\",None]\n",
    "}\n",
    "\n",
    "null_colnames = find_null_colname(data)\n",
    "print(null_colnames)"
   ]
  },
  {
   "cell_type": "markdown",
   "metadata": {},
   "source": [
    "#8"
   ]
  },
  {
   "cell_type": "code",
   "execution_count": null,
   "metadata": {},
   "outputs": [
    {
     "name": "stdout",
     "output_type": "stream",
     "text": [
      "[{'JB': 3}, {'JT': 2}, {'JI': 2}]\n"
     ]
    }
   ],
   "source": [
    "def province_users(dataset, province_ids):\n",
    "    # Your code here\n",
    "    result = []\n",
    "    chop = []\n",
    "    \n",
    "    for entry in dataset.values():\n",
    "        for record in entry:\n",
    "            chop.append(record[0:2])\n",
    "    \n",
    "    for keys in province_ids:\n",
    "        x = chop.count(keys)\n",
    "        new = {\n",
    "            keys: x\n",
    "        }\n",
    "        result.append(new)\n",
    "          \n",
    "    return result\n",
    "    \n",
    "# Input\n",
    "dataset = {\n",
    "    \"customer_id\": [\"JB-001\",\"JT-002\",\"JI-003\",\"JB-004\",\"JT-005\",\"JI-006\",\"JB-007\"]\n",
    "}\n",
    "province_ids = [\"JB\",\"JT\",\"JI\"]\n",
    "\n",
    "top_province = province_users(dataset, province_ids)\n",
    "print(top_province)"
   ]
  },
  {
   "cell_type": "markdown",
   "metadata": {},
   "source": [
    "#9"
   ]
  },
  {
   "cell_type": "code",
   "execution_count": null,
   "metadata": {},
   "outputs": [
    {
     "name": "stdout",
     "output_type": "stream",
     "text": [
      "[10, 20, 30, 40, 50]\n"
     ]
    }
   ],
   "source": [
    "def swap_pairs(arr):\n",
    "    # Your code here\n",
    "    result = []\n",
    "    \n",
    "    if len(arr) % 2 == 1:\n",
    "        for index in range(1,len(arr)-1,2):\n",
    "            a = arr[index]\n",
    "            b = arr[index-1]\n",
    "            result.append(a)\n",
    "            result.append(b)\n",
    "            \n",
    "        result.append(arr[len(arr)-1])\n",
    "        \n",
    "    else:\n",
    "        for index in range(1,len(arr),2):\n",
    "            a = arr[index]\n",
    "            b = arr[index-1]\n",
    "            result.append(a)\n",
    "            result.append(b)\n",
    "\n",
    "    return result\n",
    "\n",
    "# Input\n",
    "arr = [20,10,40,30,50]\n",
    "\n",
    "arr_swap = swap_pairs(arr)\n",
    "print(arr_swap)"
   ]
  },
  {
   "cell_type": "markdown",
   "metadata": {},
   "source": [
    "#10"
   ]
  },
  {
   "cell_type": "code",
   "execution_count": null,
   "metadata": {},
   "outputs": [
    {
     "name": "stdout",
     "output_type": "stream",
     "text": [
      "[2, 20]\n"
     ]
    }
   ],
   "source": [
    "def multiply_consecutive_pairs(arr):\n",
    "    # Your code here\n",
    "    arr.sort()\n",
    "    result = []\n",
    "    \n",
    "    if len(arr) % 2 == 1:\n",
    "        for index in range(1,len(arr)-1,2):\n",
    "            a = arr[index] * arr[index-1]\n",
    "            result.append(a)\n",
    "    \n",
    "    else:\n",
    "        for index in range(1,len(arr),2):\n",
    "            a = arr[index] * arr[index-1]\n",
    "            result.append(a)\n",
    "            \n",
    "    return result\n",
    "\n",
    "# Input\n",
    "arr = [5,1,9,2,4]\n",
    "\n",
    "result = multiply_consecutive_pairs(arr)\n",
    "print(result)"
   ]
  },
  {
   "cell_type": "code",
   "execution_count": null,
   "metadata": {},
   "outputs": [],
   "source": []
  }
 ],
 "metadata": {
  "kernelspec": {
   "display_name": "Python 3",
   "language": "python",
   "name": "python3"
  },
  "language_info": {
   "codemirror_mode": {
    "name": "ipython",
    "version": 3
   },
   "file_extension": ".py",
   "mimetype": "text/x-python",
   "name": "python",
   "nbconvert_exporter": "python",
   "pygments_lexer": "ipython3",
   "version": "3.9.6"
  }
 },
 "nbformat": 4,
 "nbformat_minor": 2
}
